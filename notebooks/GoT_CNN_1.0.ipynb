{
 "cells": [
  {
   "cell_type": "code",
   "execution_count": 2,
   "metadata": {
    "collapsed": false
   },
   "outputs": [],
   "source": [
    "from __future__ import absolute_import, division, print_function\n",
    "import os \n",
    "\n"
   ]
  },
  {
   "cell_type": "code",
   "execution_count": 3,
   "metadata": {
    "collapsed": false
   },
   "outputs": [
    {
     "name": "stdout",
     "output_type": "stream",
     "text": [
      "Found 37661 images belonging to 2 classes.\n",
      "Found 7617 images belonging to 2 classes.\n"
     ]
    }
   ],
   "source": [
    "# Data preprocessing  \n",
    "from keras.preprocessing.image import ImageDataGenerator, array_to_img, img_to_array, load_img\n",
    "\n",
    "batch_size=16\n",
    "\n",
    "train_aug = ImageDataGenerator(rescale=1.0/255)\n",
    "                               \n",
    "\n",
    "test_aug = ImageDataGenerator(rescale=1.0/255)\n",
    "\n",
    "train_generator = train_aug.flow_from_directory('GoT-images/train', # Path to directory with training images\n",
    "                                                target_size=(224,224),\n",
    "                                                batch_size=batch_size,\n",
    "                                                shuffle=True,\n",
    "                                                class_mode='categorical')\n",
    "\n",
    "validation_generator = test_aug.flow_from_directory('GoT-images/valid', # Path to directory with validation images \n",
    "                                                   target_size=(224,224),\n",
    "                                                   batch_size=batch_size,\n",
    "                                                   shuffle=True,\n",
    "                                                   class_mode='categorical')"
   ]
  },
  {
   "cell_type": "code",
   "execution_count": 6,
   "metadata": {
    "collapsed": false
   },
   "outputs": [
    {
     "name": "stdout",
     "output_type": "stream",
     "text": [
      "_________________________________________________________________\n",
      "Layer (type)                 Output Shape              Param #   \n",
      "=================================================================\n",
      "conv2d_5 (Conv2D)            (None, 224, 224, 24)      2616      \n",
      "_________________________________________________________________\n",
      "batch_normalization_6 (Batch (None, 224, 224, 24)      96        \n",
      "_________________________________________________________________\n",
      "activation_6 (Activation)    (None, 224, 224, 24)      0         \n",
      "_________________________________________________________________\n",
      "max_pooling2d_5 (MaxPooling2 (None, 112, 112, 24)      0         \n",
      "_________________________________________________________________\n",
      "dropout_6 (Dropout)          (None, 112, 112, 24)      0         \n",
      "_________________________________________________________________\n",
      "conv2d_6 (Conv2D)            (None, 56, 56, 48)        28848     \n",
      "_________________________________________________________________\n",
      "batch_normalization_7 (Batch (None, 56, 56, 48)        192       \n",
      "_________________________________________________________________\n",
      "activation_7 (Activation)    (None, 56, 56, 48)        0         \n",
      "_________________________________________________________________\n",
      "max_pooling2d_6 (MaxPooling2 (None, 28, 28, 48)        0         \n",
      "_________________________________________________________________\n",
      "dropout_7 (Dropout)          (None, 28, 28, 48)        0         \n",
      "_________________________________________________________________\n",
      "conv2d_7 (Conv2D)            (None, 14, 14, 64)        49216     \n",
      "_________________________________________________________________\n",
      "batch_normalization_8 (Batch (None, 14, 14, 64)        256       \n",
      "_________________________________________________________________\n",
      "activation_8 (Activation)    (None, 14, 14, 64)        0         \n",
      "_________________________________________________________________\n",
      "max_pooling2d_7 (MaxPooling2 (None, 7, 7, 64)          0         \n",
      "_________________________________________________________________\n",
      "dropout_8 (Dropout)          (None, 7, 7, 64)          0         \n",
      "_________________________________________________________________\n",
      "conv2d_8 (Conv2D)            (None, 4, 4, 128)         73856     \n",
      "_________________________________________________________________\n",
      "batch_normalization_9 (Batch (None, 4, 4, 128)         512       \n",
      "_________________________________________________________________\n",
      "activation_9 (Activation)    (None, 4, 4, 128)         0         \n",
      "_________________________________________________________________\n",
      "max_pooling2d_8 (MaxPooling2 (None, 2, 2, 128)         0         \n",
      "_________________________________________________________________\n",
      "dropout_9 (Dropout)          (None, 2, 2, 128)         0         \n",
      "_________________________________________________________________\n",
      "flatten_2 (Flatten)          (None, 512)               0         \n",
      "_________________________________________________________________\n",
      "dense_3 (Dense)              (None, 200)               102600    \n",
      "_________________________________________________________________\n",
      "batch_normalization_10 (Batc (None, 200)               800       \n",
      "_________________________________________________________________\n",
      "activation_10 (Activation)   (None, 200)               0         \n",
      "_________________________________________________________________\n",
      "dropout_10 (Dropout)         (None, 200)               0         \n",
      "_________________________________________________________________\n",
      "dense_4 (Dense)              (None, 2)                 402       \n",
      "=================================================================\n",
      "Total params: 259,394\n",
      "Trainable params: 258,466\n",
      "Non-trainable params: 928\n",
      "_________________________________________________________________\n"
     ]
    }
   ],
   "source": [
    "from keras.layers import Conv2D, MaxPooling2D, Activation, Dropout, Flatten, Dense\n",
    "from keras.models import Sequential\n",
    "from keras.layers.normalization import BatchNormalization \n",
    "\n",
    "# Version 1.0\n",
    "\n",
    "model = Sequential()\n",
    "\n",
    "model.add(Conv2D(filters=24, kernel_size=6, strides=1, padding='same', input_shape=(224,224,3)))\n",
    "model.add(BatchNormalization())\n",
    "model.add(Activation('relu'))\n",
    "model.add(MaxPooling2D(pool_size=2))\n",
    "model.add(Dropout(0.2))\n",
    "\n",
    "\n",
    "model.add(Conv2D(filters=48, kernel_size=5, strides=2, padding='same'))\n",
    "model.add(BatchNormalization())\n",
    "model.add(Activation('relu'))\n",
    "model.add(MaxPooling2D(pool_size=2))\n",
    "model.add(Dropout(0.3))\n",
    "\n",
    "model.add(Conv2D(filters=64, kernel_size=4, strides=2, padding='same'))\n",
    "model.add(BatchNormalization())\n",
    "model.add(Activation('relu'))\n",
    "model.add(MaxPooling2D(pool_size=2))\n",
    "model.add(Dropout(0.4))\n",
    "\n",
    "model.add(Conv2D(filters=128, kernel_size=3, strides=2, padding='same'))\n",
    "model.add(BatchNormalization())\n",
    "model.add(Activation('relu'))\n",
    "model.add(MaxPooling2D(pool_size=2))\n",
    "model.add(Dropout(0.5))\n",
    "\n",
    "\n",
    "model.add(Flatten())\n",
    "\n",
    "model.add(Dense(200))\n",
    "model.add(BatchNormalization())\n",
    "model.add(Activation('relu'))\n",
    "model.add(Dropout(0.7)) \n",
    "\n",
    "\n",
    "model.add(Dense(2, activation='softmax'))\n",
    "\n",
    "model.summary()"
   ]
  },
  {
   "cell_type": "code",
   "execution_count": 7,
   "metadata": {
    "collapsed": true
   },
   "outputs": [],
   "source": [
    "from keras.optimizers import Adam\n",
    "\n",
    "model.compile(optimizer='adam', loss='categorical_crossentropy', metrics=['accuracy'])"
   ]
  },
  {
   "cell_type": "code",
   "execution_count": 8,
   "metadata": {
    "collapsed": false
   },
   "outputs": [
    {
     "name": "stdout",
     "output_type": "stream",
     "text": [
      "Epoch 1/50\n",
      "2352/2353 [============================>.] - ETA: 0s - loss: 0.7089 - acc: 0.5937Epoch 00000: val_loss improved from inf to 0.90772, saving model to saved_models/ver1_0.hdf5\n",
      "2353/2353 [==============================] - 937s - loss: 0.7088 - acc: 0.5937 - val_loss: 0.9077 - val_acc: 0.5110\n",
      "Epoch 2/50\n",
      "2352/2353 [============================>.] - ETA: 0s - loss: 0.6013 - acc: 0.6824Epoch 00001: val_loss improved from 0.90772 to 0.79955, saving model to saved_models/ver1_0.hdf5\n",
      "2353/2353 [==============================] - 885s - loss: 0.6012 - acc: 0.6824 - val_loss: 0.7996 - val_acc: 0.5610\n",
      "Epoch 3/50\n",
      "2352/2353 [============================>.] - ETA: 0s - loss: 0.5799 - acc: 0.7009Epoch 00002: val_loss did not improve\n",
      "2353/2353 [==============================] - 891s - loss: 0.5799 - acc: 0.7009 - val_loss: 0.8782 - val_acc: 0.5456\n",
      "Epoch 4/50\n",
      "2352/2353 [============================>.] - ETA: 0s - loss: 0.5600 - acc: 0.7176Epoch 00003: val_loss improved from 0.79955 to 0.50295, saving model to saved_models/ver1_0.hdf5\n",
      "2353/2353 [==============================] - 887s - loss: 0.5600 - acc: 0.7176 - val_loss: 0.5030 - val_acc: 0.7621\n",
      "Epoch 5/50\n",
      "2352/2353 [============================>.] - ETA: 0s - loss: 0.5463 - acc: 0.7287Epoch 00004: val_loss did not improve\n",
      "2353/2353 [==============================] - 888s - loss: 0.5465 - acc: 0.7286 - val_loss: 0.5687 - val_acc: 0.7021\n",
      "Epoch 6/50\n",
      "2352/2353 [============================>.] - ETA: 0s - loss: 0.5317 - acc: 0.7354Epoch 00005: val_loss improved from 0.50295 to 0.46847, saving model to saved_models/ver1_0.hdf5\n",
      "2353/2353 [==============================] - 891s - loss: 0.5317 - acc: 0.7353 - val_loss: 0.4685 - val_acc: 0.7798\n",
      "Epoch 7/50\n",
      "2352/2353 [============================>.] - ETA: 0s - loss: 0.5257 - acc: 0.7401Epoch 00006: val_loss did not improve\n",
      "2353/2353 [==============================] - 895s - loss: 0.5257 - acc: 0.7401 - val_loss: 0.6519 - val_acc: 0.6723\n",
      "Epoch 8/50\n",
      "2352/2353 [============================>.] - ETA: 0s - loss: 0.5180 - acc: 0.7477Epoch 00007: val_loss did not improve\n",
      "2353/2353 [==============================] - 892s - loss: 0.5179 - acc: 0.7477 - val_loss: 0.5552 - val_acc: 0.7286\n",
      "Epoch 9/50\n",
      "2352/2353 [============================>.] - ETA: 0s - loss: 0.5066 - acc: 0.7548Epoch 00008: val_loss did not improve\n",
      "2353/2353 [==============================] - 905s - loss: 0.5066 - acc: 0.7549 - val_loss: 0.6362 - val_acc: 0.6670\n",
      "Epoch 10/50\n",
      "2352/2353 [============================>.] - ETA: 0s - loss: 0.5006 - acc: 0.7581Epoch 00009: val_loss did not improve\n",
      "2353/2353 [==============================] - 906s - loss: 0.5007 - acc: 0.7581 - val_loss: 0.5422 - val_acc: 0.7365\n",
      "Epoch 11/50\n",
      "2352/2353 [============================>.] - ETA: 0s - loss: 0.4938 - acc: 0.7622Epoch 00010: val_loss did not improve\n",
      "2353/2353 [==============================] - 904s - loss: 0.4938 - acc: 0.7623 - val_loss: 0.6024 - val_acc: 0.7071\n",
      "Epoch 12/50\n",
      "2352/2353 [============================>.] - ETA: 0s - loss: 0.4914 - acc: 0.7621Epoch 00011: val_loss did not improve\n",
      "2353/2353 [==============================] - 904s - loss: 0.4913 - acc: 0.7620 - val_loss: 0.5705 - val_acc: 0.7200\n"
     ]
    },
    {
     "data": {
      "text/plain": [
       "<keras.callbacks.History at 0x7f19f87113c8>"
      ]
     },
     "execution_count": 8,
     "metadata": {},
     "output_type": "execute_result"
    }
   ],
   "source": [
    "from keras.callbacks import ModelCheckpoint, EarlyStopping\n",
    "\n",
    "\n",
    "epochs = 50\n",
    "\n",
    "# number of training images\n",
    "nb_training_size = 37661.0   \n",
    "\n",
    "# number of validation images\n",
    "nb_validation_size = 7617.0\n",
    "\n",
    "# saves best model to filepath\n",
    "checkpointer = ModelCheckpoint(filepath='saved_models/ver1_0.hdf5', \n",
    "                               verbose=1, save_best_only=True)\n",
    "\n",
    "# stops training if validation loss stops improving\n",
    "early_stop = EarlyStopping(monitor='val_loss', patience=5)\n",
    "\n",
    "\n",
    "model.fit_generator(train_generator,\n",
    "                   steps_per_epoch=nb_training_size//batch_size,\n",
    "                   epochs=epochs,\n",
    "                   validation_data=validation_generator,\n",
    "                   validation_steps=nb_validation_size//batch_size,\n",
    "                   verbose=1,\n",
    "                   callbacks=[checkpointer, early_stop])"
   ]
  },
  {
   "cell_type": "code",
   "execution_count": null,
   "metadata": {
    "collapsed": true
   },
   "outputs": [],
   "source": []
  }
 ],
 "metadata": {
  "kernelspec": {
   "display_name": "Python [default]",
   "language": "python",
   "name": "python3"
  },
  "language_info": {
   "codemirror_mode": {
    "name": "ipython",
    "version": 3
   },
   "file_extension": ".py",
   "mimetype": "text/x-python",
   "name": "python",
   "nbconvert_exporter": "python",
   "pygments_lexer": "ipython3",
   "version": "3.6.0"
  }
 },
 "nbformat": 4,
 "nbformat_minor": 2
}
