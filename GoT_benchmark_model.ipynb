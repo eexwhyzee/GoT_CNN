{
 "cells": [
  {
   "cell_type": "code",
   "execution_count": 1,
   "metadata": {
    "collapsed": false
   },
   "outputs": [
    {
     "name": "stderr",
     "output_type": "stream",
     "text": [
      "Using TensorFlow backend.\n"
     ]
    }
   ],
   "source": [
    "from sklearn.datasets import load_files       \n",
    "from keras.utils import np_utils\n",
    "import numpy as np\n",
    "from glob import glob\n",
    "from keras.preprocessing import image                  \n",
    "from tqdm import tqdm"
   ]
  },
  {
   "cell_type": "code",
   "execution_count": 2,
   "metadata": {
    "collapsed": true
   },
   "outputs": [],
   "source": [
    "from __future__ import absolute_import, division, print_function\n",
    "import os \n",
    "\n",
    "os.chdir('/home/aind2/root/GoT')"
   ]
  },
  {
   "cell_type": "code",
   "execution_count": 3,
   "metadata": {
    "collapsed": true
   },
   "outputs": [],
   "source": [
    "# define function to load train, test, and validation datasets\n",
    "def load_dataset(path):\n",
    "    data = load_files(path)\n",
    "    GoT_files = np.array(data['filenames'])\n",
    "    GoT_targets = np_utils.to_categorical(np.array(data['target']), 2)\n",
    "    return GoT_files, GoT_targets\n",
    "\n",
    "# load train, test, and validation datasets\n",
    "train_files, train_targets = load_dataset('GoT-images/train')\n",
    "valid_files, valid_targets = load_dataset('GoT-images/valid')\n",
    "# test_files, test_targets = load_dataset('GoT-images/test') <- Need to scrape IG Discover page for test set"
   ]
  },
  {
   "cell_type": "code",
   "execution_count": 4,
   "metadata": {
    "collapsed": true
   },
   "outputs": [],
   "source": [
    "def path_to_tensor(img_path):\n",
    "    # loads RGB image as PIL.Image.Image type\n",
    "    img = image.load_img(img_path, target_size=(224, 224))\n",
    "    # convert PIL.Image.Image type to 3D tensor with shape (224, 224, 3)\n",
    "    x = image.img_to_array(img)\n",
    "    # convert 3D tensor to 4D tensor with shape (1, 224, 224, 3) and return 4D tensor\n",
    "    return np.expand_dims(x, axis=0)\n",
    "\n",
    "def paths_to_tensor(img_paths):\n",
    "    list_of_tensors = [path_to_tensor(img_path) for img_path in tqdm(img_paths)]\n",
    "    return np.vstack(list_of_tensors)"
   ]
  },
  {
   "cell_type": "code",
   "execution_count": 5,
   "metadata": {
    "collapsed": false
   },
   "outputs": [
    {
     "name": "stderr",
     "output_type": "stream",
     "text": [
      "100%|██████████| 37661/37661 [12:00<00:00, 52.27it/s]\n",
      "100%|██████████| 7617/7617 [02:31<00:00, 50.35it/s]\n"
     ]
    }
   ],
   "source": [
    "from PIL import ImageFile                            \n",
    "ImageFile.LOAD_TRUNCATED_IMAGES = True                 \n",
    "\n",
    "# pre-process the data for Keras\n",
    "train_tensors = paths_to_tensor(train_files).astype('float32')/255\n",
    "valid_tensors = paths_to_tensor(valid_files).astype('float32')/255\n",
    "# test_tensors = paths_to_tensor(test_files).astype('float32')/255"
   ]
  },
  {
   "cell_type": "code",
   "execution_count": 7,
   "metadata": {
    "collapsed": false
   },
   "outputs": [
    {
     "name": "stdout",
     "output_type": "stream",
     "text": [
      "_________________________________________________________________\n",
      "Layer (type)                 Output Shape              Param #   \n",
      "=================================================================\n",
      "conv2d_2 (Conv2D)            (None, 112, 112, 16)      448       \n",
      "_________________________________________________________________\n",
      "batch_normalization_2 (Batch (None, 112, 112, 16)      64        \n",
      "_________________________________________________________________\n",
      "activation_1 (Activation)    (None, 112, 112, 16)      0         \n",
      "_________________________________________________________________\n",
      "conv2d_3 (Conv2D)            (None, 56, 56, 32)        4640      \n",
      "_________________________________________________________________\n",
      "batch_normalization_3 (Batch (None, 56, 56, 32)        128       \n",
      "_________________________________________________________________\n",
      "activation_2 (Activation)    (None, 56, 56, 32)        0         \n",
      "_________________________________________________________________\n",
      "conv2d_4 (Conv2D)            (None, 28, 28, 64)        18496     \n",
      "_________________________________________________________________\n",
      "batch_normalization_4 (Batch (None, 28, 28, 64)        256       \n",
      "_________________________________________________________________\n",
      "activation_3 (Activation)    (None, 28, 28, 64)        0         \n",
      "_________________________________________________________________\n",
      "conv2d_5 (Conv2D)            (None, 14, 14, 128)       73856     \n",
      "_________________________________________________________________\n",
      "batch_normalization_5 (Batch (None, 14, 14, 128)       512       \n",
      "_________________________________________________________________\n",
      "activation_4 (Activation)    (None, 14, 14, 128)       0         \n",
      "_________________________________________________________________\n",
      "conv2d_6 (Conv2D)            (None, 7, 7, 256)         295168    \n",
      "_________________________________________________________________\n",
      "batch_normalization_6 (Batch (None, 7, 7, 256)         1024      \n",
      "_________________________________________________________________\n",
      "activation_5 (Activation)    (None, 7, 7, 256)         0         \n",
      "_________________________________________________________________\n",
      "flatten_1 (Flatten)          (None, 12544)             0         \n",
      "_________________________________________________________________\n",
      "dense_1 (Dense)              (None, 1000)              12545000  \n",
      "_________________________________________________________________\n",
      "batch_normalization_7 (Batch (None, 1000)              4000      \n",
      "_________________________________________________________________\n",
      "activation_6 (Activation)    (None, 1000)              0         \n",
      "_________________________________________________________________\n",
      "dropout_1 (Dropout)          (None, 1000)              0         \n",
      "_________________________________________________________________\n",
      "dense_2 (Dense)              (None, 2)                 2002      \n",
      "=================================================================\n",
      "Total params: 12,945,594\n",
      "Trainable params: 12,942,602\n",
      "Non-trainable params: 2,992\n",
      "_________________________________________________________________\n"
     ]
    }
   ],
   "source": [
    "from keras.layers import Conv2D, Dropout, Flatten, Dense, Activation\n",
    "from keras.models import Sequential\n",
    "from keras.layers.normalization import BatchNormalization \n",
    "\n",
    "model = Sequential()\n",
    "\n",
    "model.add(Conv2D(filters=16, kernel_size=3, strides=2, padding='same', input_shape=(224,224,3)))\n",
    "model.add(BatchNormalization())\n",
    "model.add(Activation('relu'))\n",
    "\n",
    "model.add(Conv2D(filters=32, kernel_size=3, strides=2, padding='same'))\n",
    "model.add(BatchNormalization())\n",
    "model.add(Activation('relu'))\n",
    "\n",
    "model.add(Conv2D(filters=64, kernel_size=3, strides=2, padding='same')) \n",
    "model.add(BatchNormalization())\n",
    "model.add(Activation('relu'))\n",
    "\n",
    "model.add(Conv2D(filters=128, kernel_size=3, strides=2, padding='same')) \n",
    "model.add(BatchNormalization())\n",
    "model.add(Activation('relu'))\n",
    "\n",
    "model.add(Conv2D(filters=256, kernel_size=3, strides=2, padding='same')) \n",
    "model.add(BatchNormalization())\n",
    "model.add(Activation('relu'))\n",
    "\n",
    "\n",
    "model.add(Flatten())\n",
    "\n",
    "model.add(Dense(1000))\n",
    "model.add(BatchNormalization())\n",
    "model.add(Activation('relu'))\n",
    "model.add(Dropout(0.5))\n",
    "\n",
    "model.add(Dense(2, activation='softmax'))\n",
    "\n",
    "model.summary()"
   ]
  },
  {
   "cell_type": "code",
   "execution_count": 8,
   "metadata": {
    "collapsed": true
   },
   "outputs": [],
   "source": [
    "from keras.optimizers import Adam\n",
    "\n",
    "model.compile(optimizer='adam', loss='categorical_crossentropy', metrics=['accuracy'])\n",
    "model.load_weights('saved_models/benchmark_model.hdf5')"
   ]
  },
  {
   "cell_type": "code",
   "execution_count": null,
   "metadata": {
    "collapsed": false
   },
   "outputs": [
    {
     "name": "stdout",
     "output_type": "stream",
     "text": [
      "Train on 37661 samples, validate on 7617 samples\n",
      "Epoch 1/50\n",
      "37632/37661 [============================>.] - ETA: 0s - loss: 0.7004 - acc: 0.6386Epoch 00000: val_loss improved from inf to 0.59412, saving model to saved_models/benchmark_model.hdf5\n",
      "37661/37661 [==============================] - 120s - loss: 0.7004 - acc: 0.6385 - val_loss: 0.5941 - val_acc: 0.6979\n",
      "Epoch 2/50\n",
      "37632/37661 [============================>.] - ETA: 0s - loss: 0.5919 - acc: 0.6977Epoch 00001: val_loss improved from 0.59412 to 0.57634, saving model to saved_models/benchmark_model.hdf5\n",
      "37661/37661 [==============================] - 114s - loss: 0.5919 - acc: 0.6977 - val_loss: 0.5763 - val_acc: 0.7117\n",
      "Epoch 3/50\n",
      "37632/37661 [============================>.] - ETA: 0s - loss: 0.5390 - acc: 0.7337Epoch 00002: val_loss improved from 0.57634 to 0.53453, saving model to saved_models/benchmark_model.hdf5\n",
      "37661/37661 [==============================] - 114s - loss: 0.5389 - acc: 0.7337 - val_loss: 0.5345 - val_acc: 0.7357\n",
      "Epoch 4/50\n",
      "37632/37661 [============================>.] - ETA: 0s - loss: 0.5059 - acc: 0.7539Epoch 00003: val_loss did not improve\n",
      "37661/37661 [==============================] - 114s - loss: 0.5059 - acc: 0.7538 - val_loss: 0.6123 - val_acc: 0.7000\n",
      "Epoch 5/50\n",
      "37632/37661 [============================>.] - ETA: 0s - loss: 0.4661 - acc: 0.7751Epoch 00004: val_loss did not improve\n",
      "37661/37661 [==============================] - 114s - loss: 0.4661 - acc: 0.7750 - val_loss: 0.5484 - val_acc: 0.7305\n",
      "Epoch 6/50\n",
      "37632/37661 [============================>.] - ETA: 0s - loss: 0.4190 - acc: 0.8035Epoch 00005: val_loss improved from 0.53453 to 0.52361, saving model to saved_models/benchmark_model.hdf5\n",
      "37661/37661 [==============================] - 114s - loss: 0.4191 - acc: 0.8035 - val_loss: 0.5236 - val_acc: 0.7394\n",
      "Epoch 7/50\n",
      "37632/37661 [============================>.] - ETA: 0s - loss: 0.3508 - acc: 0.8429Epoch 00006: val_loss did not improve\n",
      "37661/37661 [==============================] - 113s - loss: 0.3508 - acc: 0.8428 - val_loss: 0.7514 - val_acc: 0.6948\n",
      "Epoch 8/50\n",
      "37632/37661 [============================>.] - ETA: 0s - loss: 0.2740 - acc: 0.8817Epoch 00007: val_loss did not improve\n",
      "37661/37661 [==============================] - 114s - loss: 0.2741 - acc: 0.8816 - val_loss: 0.6650 - val_acc: 0.7537\n",
      "Epoch 9/50\n",
      "37632/37661 [============================>.] - ETA: 0s - loss: 0.2029 - acc: 0.9160Epoch 00008: val_loss did not improve\n",
      "37661/37661 [==============================] - 113s - loss: 0.2030 - acc: 0.9160 - val_loss: 0.7169 - val_acc: 0.7558\n",
      "Epoch 10/50\n",
      "37632/37661 [============================>.] - ETA: 0s - loss: 0.1502 - acc: 0.9398Epoch 00009: val_loss did not improve\n",
      "37661/37661 [==============================] - 113s - loss: 0.1502 - acc: 0.9398 - val_loss: 0.7505 - val_acc: 0.7529\n",
      "Epoch 11/50\n",
      "34080/37661 [==========================>...] - ETA: 10s - loss: 0.1218 - acc: 0.9534"
     ]
    }
   ],
   "source": [
    "from keras.callbacks import ModelCheckpoint, EarlyStopping\n",
    "\n",
    "#benchmark model\n",
    "\n",
    "epochs = 50\n",
    "\n",
    "checkpointer = ModelCheckpoint(filepath='saved_models/benchmark_model.hdf5', \n",
    "                               verbose=1, save_best_only=True)\n",
    "\n",
    "early_stop = EarlyStopping(monitor='val_loss', patience=5)\n",
    "\n",
    "model.fit(train_tensors, train_targets, validation_data=(valid_tensors, valid_targets), epochs=epochs, batch_size=32, callbacks=[checkpointer,early_stop], verbose=1)\n",
    "\n"
   ]
  },
  {
   "cell_type": "code",
   "execution_count": 9,
   "metadata": {
    "collapsed": false
   },
   "outputs": [
    {
     "name": "stdout",
     "output_type": "stream",
     "text": [
      "Train on 37661 samples, validate on 7617 samples\n",
      "Epoch 1/40\n",
      "37632/37661 [============================>.] - ETA: 0s - loss: 0.3480 - acc: 0.8446Epoch 00000: val_loss improved from inf to 0.56767, saving model to saved_models/benchmark_model.hdf5\n",
      "37661/37661 [==============================] - 116s - loss: 0.3480 - acc: 0.8446 - val_loss: 0.5677 - val_acc: 0.7502\n",
      "Epoch 2/40\n",
      "37632/37661 [============================>.] - ETA: 0s - loss: 0.2677 - acc: 0.8849Epoch 00001: val_loss did not improve\n",
      "37661/37661 [==============================] - 113s - loss: 0.2677 - acc: 0.8849 - val_loss: 0.5837 - val_acc: 0.7492\n",
      "Epoch 3/40\n",
      "37632/37661 [============================>.] - ETA: 0s - loss: 0.2025 - acc: 0.9162Epoch 00002: val_loss did not improve\n",
      "37661/37661 [==============================] - 114s - loss: 0.2026 - acc: 0.9161 - val_loss: 0.7464 - val_acc: 0.7582\n",
      "Epoch 4/40\n",
      "37632/37661 [============================>.] - ETA: 0s - loss: 0.1534 - acc: 0.9385Epoch 00003: val_loss did not improve\n",
      "37661/37661 [==============================] - 113s - loss: 0.1534 - acc: 0.9385 - val_loss: 0.8221 - val_acc: 0.7636\n",
      "Epoch 5/40\n",
      "37632/37661 [============================>.] - ETA: 0s - loss: 0.1279 - acc: 0.9494Epoch 00004: val_loss did not improve\n",
      "37661/37661 [==============================] - 113s - loss: 0.1280 - acc: 0.9494 - val_loss: 0.8386 - val_acc: 0.7561\n",
      "Epoch 6/40\n",
      "37632/37661 [============================>.] - ETA: 0s - loss: 0.1069 - acc: 0.9587Epoch 00005: val_loss did not improve\n",
      "37661/37661 [==============================] - 113s - loss: 0.1071 - acc: 0.9587 - val_loss: 0.9184 - val_acc: 0.7412\n",
      "Epoch 7/40\n",
      "37632/37661 [============================>.] - ETA: 0s - loss: 0.0896 - acc: 0.9665Epoch 00006: val_loss did not improve\n",
      "37661/37661 [==============================] - 113s - loss: 0.0896 - acc: 0.9665 - val_loss: 0.9063 - val_acc: 0.7632\n"
     ]
    },
    {
     "data": {
      "text/plain": [
       "<keras.callbacks.History at 0x7f2cdcab7ef0>"
      ]
     },
     "execution_count": 9,
     "metadata": {},
     "output_type": "execute_result"
    }
   ],
   "source": [
    "from keras.callbacks import ModelCheckpoint, EarlyStopping\n",
    "\n",
    "\n",
    "#benchmark model resume training (AWS instance connection was dropped)\n",
    "\n",
    "epochs = 40\n",
    "\n",
    "checkpointer = ModelCheckpoint(filepath='saved_models/benchmark_model.hdf5', \n",
    "                               verbose=1, save_best_only=True)\n",
    "\n",
    "early_stop = EarlyStopping(monitor='val_loss', patience=5)\n",
    "\n",
    "model.fit(train_tensors, train_targets, validation_data=(valid_tensors, valid_targets), epochs=epochs, batch_size=32, callbacks=[checkpointer,early_stop], verbose=1)"
   ]
  }
 ],
 "metadata": {
  "kernelspec": {
   "display_name": "Python [default]",
   "language": "python",
   "name": "python3"
  },
  "language_info": {
   "codemirror_mode": {
    "name": "ipython",
    "version": 3
   },
   "file_extension": ".py",
   "mimetype": "text/x-python",
   "name": "python",
   "nbconvert_exporter": "python",
   "pygments_lexer": "ipython3",
   "version": "3.6.0"
  }
 },
 "nbformat": 4,
 "nbformat_minor": 2
}
